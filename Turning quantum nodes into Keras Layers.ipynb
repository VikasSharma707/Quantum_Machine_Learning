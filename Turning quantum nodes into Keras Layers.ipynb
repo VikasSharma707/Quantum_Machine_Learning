{
 "cells": [
  {
   "cell_type": "code",
   "execution_count": 1,
   "metadata": {
    "scrolled": true
   },
   "outputs": [],
   "source": [
    "#pip install tensorflow\n",
    "#!pip install numpy\n",
    "#!pip install scikit-learn\n",
    "import numpy as np\n",
    "from sklearn.datasets import make_moons\n",
    "from matplotlib import pyplot as plt\n",
    "import tensorflow as tf"
   ]
  },
  {
   "cell_type": "code",
   "execution_count": 2,
   "metadata": {},
   "outputs": [],
   "source": [
    "# Set random seeds\n",
    "np.random.seed(42)\n",
    "tf.random.set_seed(42)"
   ]
  },
  {
   "cell_type": "code",
   "execution_count": 3,
   "metadata": {},
   "outputs": [],
   "source": [
    "X, y = make_moons(n_samples=200, noise=0.1)\n",
    "y_hat = tf.keras.utils.to_categorical(y, num_classes=2) #one_hot encodeed lables"
   ]
  },
  {
   "cell_type": "code",
   "execution_count": 4,
   "metadata": {},
   "outputs": [
    {
     "data": {
      "image/png": "[encoded data removed]",
      "text/plain": [
       "<Figure size 432x288 with 1 Axes>"
      ]
     },
     "metadata": {
      "needs_background": "light"
     },
     "output_type": "display_data"
    }
   ],
   "source": [
    "c = [\"red\" if y_ == 0 else \"blue\" for y_ in y] # color for eacch class\n",
    "plt.axis(\"off\")\n",
    "plt.scatter(X[:, 0], X[:, 1], c=c)\n",
    "plt.show()"
   ]
  },
  {
   "cell_type": "code",
   "execution_count": 5,
   "metadata": {},
   "outputs": [],
   "source": [
    "import pennylane as qml\n",
    "n_qubits = 2\n",
    "dev = qml.device(\"default.qubit\", wires=n_qubits)"
   ]
  },
  {
   "cell_type": "code",
   "execution_count": 6,
   "metadata": {},
   "outputs": [],
   "source": [
    "@qml.qnode(dev)\n",
    "def qnode(inputs, weights):\n",
    "    qml.templates.AngleEmbedding(inputs, wires=range(n_qubits))\n",
    "    qml.templates.BasicEntanglerLayers(weights, wires=range(n_qubits))\n",
    "    return [qml.expval(qml.PauliZ(wires=i)) for i in range(n_qubits)]"
   ]
  },
  {
   "cell_type": "code",
   "execution_count": 7,
   "metadata": {},
   "outputs": [],
   "source": [
    "n_layers = 6\n",
    "weight_shapes = {\"weights\": (n_layers, n_qubits)}"
   ]
  },
  {
   "cell_type": "code",
   "execution_count": 8,
   "metadata": {},
   "outputs": [],
   "source": [
    "qlayer = qml.qnn.KerasLayer(qnode, weight_shapes, output_dim=n_qubits)"
   ]
  },
  {
   "cell_type": "code",
   "execution_count": 9,
   "metadata": {},
   "outputs": [],
   "source": [
    "clayer_1 = tf.keras.layers.Dense(2)\n",
    "clayer_2 = tf.keras.layers.Dense(2, activation=\"softmax\")\n",
    "model = tf.keras.models.Sequential([clayer_1, qlayer, clayer_2])"
   ]
  },
  {
   "cell_type": "code",
   "execution_count": 10,
   "metadata": {},
   "outputs": [],
   "source": [
    "opt = tf.keras.optimizers.SGD(learning_rate=0.2)\n",
    "model.compile(opt, loss=\"mae\", metrics=[\"accuracy\"])"
   ]
  },
  {
   "cell_type": "code",
   "execution_count": 11,
   "metadata": {},
   "outputs": [
    {
     "name": "stdout",
     "output_type": "stream",
     "text": [
      "Epoch 1/6\n",
      "30/30 - 25s - loss: 0.4367 - accuracy: 0.6733 - val_loss: 0.3004 - val_accuracy: 0.8000\n",
      "Epoch 2/6\n",
      "30/30 - 16s - loss: 0.2712 - accuracy: 0.7867 - val_loss: 0.2226 - val_accuracy: 0.8400\n",
      "Epoch 3/6\n",
      "30/30 - 16s - loss: 0.2066 - accuracy: 0.8267 - val_loss: 0.1947 - val_accuracy: 0.8000\n",
      "Epoch 4/6\n",
      "30/30 - 17s - loss: 0.1830 - accuracy: 0.8533 - val_loss: 0.1794 - val_accuracy: 0.8400\n",
      "Epoch 5/6\n",
      "30/30 - 16s - loss: 0.1693 - accuracy: 0.8600 - val_loss: 0.1730 - val_accuracy: 0.8600\n",
      "Epoch 6/6\n",
      "30/30 - 16s - loss: 0.1529 - accuracy: 0.8667 - val_loss: 0.1935 - val_accuracy: 0.8400\n"
     ]
    }
   ],
   "source": [
    "fitting = model.fit(X, y_hat, epochs=6, batch_size=5, validation_split=0.25, verbose=2)"
   ]
  },
  {
   "cell_type": "code",
   "execution_count": null,
   "metadata": {},
   "outputs": [],
   "source": []
  }
 ],
 "metadata": {
  "kernelspec": {
   "display_name": "Python 3",
   "language": "python",
   "name": "python3"
  },
  "language_info": {
   "codemirror_mode": {
    "name": "ipython",
    "version": 3
   },
   "file_extension": ".py",
   "mimetype": "text/x-python",
   "name": "python",
   "nbconvert_exporter": "python",
   "pygments_lexer": "ipython3",
   "version": "3.9.5"
  }
 },
 "nbformat": 4,
 "nbformat_minor": 4
}
